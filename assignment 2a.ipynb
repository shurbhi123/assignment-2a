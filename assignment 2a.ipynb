{
 "cells": [
  {
   "cell_type": "markdown",
   "id": "ac64041b-bf5e-4bec-a6c3-5770474320e2",
   "metadata": {},
   "source": [
    "Q1. How do you comment code in Python? What are the different types of comments?"
   ]
  },
  {
   "cell_type": "markdown",
   "id": "453cef5d-8c79-47d6-bf85-7b4bcd8bfb34",
   "metadata": {},
   "source": [
    "ANS -  To comment code in Python, we can use the hash symbol #. Any text that follows the hash symbol on the same line is considered a comment and is ignored by the Python interpreter.\n",
    "\n",
    "There are three types of comments in Python:\n",
    "\n",
    "Single-line comments: These comments start with the hash symbol and continue until the end of the line. They are used to provide short explanations for variables, function declarations, and expressions.\n",
    "Multi-line comments: Python does not provide a syntax for multi-line comments. However, you can use multiple hash symbols to write multi-line comments in Python. Each line will be considered as a single-line comment.\n",
    "Docstring comments: Docstrings are string literals with triple quotes that appear right after a function, module, or class definition. They are used to associate documentation with Python modules, functions, classes, and methods. Docstrings are made available via the attribute in Python."
   ]
  },
  {
   "cell_type": "markdown",
   "id": "83232216-3574-4de9-bae3-5f76762acf13",
   "metadata": {},
   "source": [
    "Q2. What are variables in Python? How do you declare and assign values to variables?"
   ]
  },
  {
   "cell_type": "markdown",
   "id": "960eb186-883b-4557-94a9-7489798dc931",
   "metadata": {},
   "source": [
    "ANS - In Python, variables are containers used to store data values. We can think of them as named storage locations that hold information. Unlike some other programming languages, Python does not require you to explicitly declare a variable before using it. EXAMPLE:"
   ]
  },
  {
   "cell_type": "code",
   "execution_count": 1,
   "id": "7684d63d-703d-4f2b-8199-6dcd0757d6fd",
   "metadata": {},
   "outputs": [],
   "source": [
    "x = 45\n",
    "y = \"yes\",\"no\"\n",
    "z = \"kumar\",\"world!\""
   ]
  },
  {
   "cell_type": "code",
   "execution_count": 2,
   "id": "0010da29-7332-44fa-a4b7-8a8b2512b39d",
   "metadata": {},
   "outputs": [
    {
     "data": {
      "text/plain": [
       "45"
      ]
     },
     "execution_count": 2,
     "metadata": {},
     "output_type": "execute_result"
    }
   ],
   "source": [
    "x"
   ]
  },
  {
   "cell_type": "code",
   "execution_count": 3,
   "id": "a629de4d-4562-47b8-ba9b-7e33946cea43",
   "metadata": {},
   "outputs": [
    {
     "data": {
      "text/plain": [
       "('yes', 'no')"
      ]
     },
     "execution_count": 3,
     "metadata": {},
     "output_type": "execute_result"
    }
   ],
   "source": [
    "y"
   ]
  },
  {
   "cell_type": "code",
   "execution_count": 4,
   "id": "652552d4-74dd-4240-9d07-990735716c59",
   "metadata": {},
   "outputs": [
    {
     "data": {
      "text/plain": [
       "int"
      ]
     },
     "execution_count": 4,
     "metadata": {},
     "output_type": "execute_result"
    }
   ],
   "source": [
    "type(x)"
   ]
  },
  {
   "cell_type": "code",
   "execution_count": 5,
   "id": "2a1b958f-55b7-4d41-9e0a-dc1061ac3c9c",
   "metadata": {},
   "outputs": [
    {
     "data": {
      "text/plain": [
       "tuple"
      ]
     },
     "execution_count": 5,
     "metadata": {},
     "output_type": "execute_result"
    }
   ],
   "source": [
    "type(y)"
   ]
  },
  {
   "cell_type": "code",
   "execution_count": 2,
   "id": "9ab24160-9100-4812-8b8c-4cdd16be046a",
   "metadata": {},
   "outputs": [
    {
     "data": {
      "text/plain": [
       "tuple"
      ]
     },
     "execution_count": 2,
     "metadata": {},
     "output_type": "execute_result"
    }
   ],
   "source": [
    "type(z)"
   ]
  },
  {
   "cell_type": "markdown",
   "id": "8dcba13a-8b33-4afa-88d3-09b6073b9980",
   "metadata": {},
   "source": [
    "Q3. How do you convert one data type to another in Python?"
   ]
  },
  {
   "cell_type": "markdown",
   "id": "1b0f8f89-cad9-40a3-94b3-43a23aab89c8",
   "metadata": {},
   "source": [
    "ANS -  In Python, we can convert one data type to another using type conversion functions. Python provides two types of type conversion: implicit and explicit."
   ]
  },
  {
   "cell_type": "markdown",
   "id": "9c59f421-7755-481d-94ce-7c6595eff6b2",
   "metadata": {},
   "source": [
    "Implicit Example:"
   ]
  },
  {
   "cell_type": "code",
   "execution_count": 9,
   "id": "2430db4d-5357-4c00-a63a-49e6fa66e39f",
   "metadata": {},
   "outputs": [],
   "source": [
    "a = 2\n",
    "b = 55.786"
   ]
  },
  {
   "cell_type": "code",
   "execution_count": 4,
   "id": "307fabeb-983f-4910-a4c8-70e9f09fddb6",
   "metadata": {},
   "outputs": [
    {
     "data": {
      "text/plain": [
       "int"
      ]
     },
     "execution_count": 4,
     "metadata": {},
     "output_type": "execute_result"
    }
   ],
   "source": [
    "type(a)"
   ]
  },
  {
   "cell_type": "code",
   "execution_count": 10,
   "id": "b1904621-2df6-445e-9fcb-b8d65598f846",
   "metadata": {},
   "outputs": [
    {
     "data": {
      "text/plain": [
       "float"
      ]
     },
     "execution_count": 10,
     "metadata": {},
     "output_type": "execute_result"
    }
   ],
   "source": [
    "type(b)"
   ]
  },
  {
   "cell_type": "code",
   "execution_count": 11,
   "id": "54dbe53d-7443-4f6c-9823-82c47ce5dcb4",
   "metadata": {},
   "outputs": [
    {
     "data": {
      "text/plain": [
       "float"
      ]
     },
     "execution_count": 11,
     "metadata": {},
     "output_type": "execute_result"
    }
   ],
   "source": [
    "type(a+b)"
   ]
  },
  {
   "cell_type": "markdown",
   "id": "069a86a1-120e-4cfc-80d2-efb1e9cb9dec",
   "metadata": {},
   "source": [
    "As we can see when we add an integer and a float, the integer is implicitly converted to a float before the addition operation is performed."
   ]
  },
  {
   "cell_type": "markdown",
   "id": "5e6c01fa-f174-469b-9917-c59016f215f4",
   "metadata": {},
   "source": [
    "Explicit Example :"
   ]
  },
  {
   "cell_type": "code",
   "execution_count": 12,
   "id": "31756967-4fbb-4388-bc7a-bfda481be123",
   "metadata": {},
   "outputs": [],
   "source": [
    "x = 42"
   ]
  },
  {
   "cell_type": "code",
   "execution_count": 14,
   "id": "9585219b-c204-4315-bb36-c8be2460051e",
   "metadata": {},
   "outputs": [
    {
     "data": {
      "text/plain": [
       "42"
      ]
     },
     "execution_count": 14,
     "metadata": {},
     "output_type": "execute_result"
    }
   ],
   "source": [
    "int(x)"
   ]
  },
  {
   "cell_type": "code",
   "execution_count": 15,
   "id": "bf9958e7-9f6f-402c-a3bd-056ba1d9ff2d",
   "metadata": {},
   "outputs": [
    {
     "data": {
      "text/plain": [
       "42.0"
      ]
     },
     "execution_count": 15,
     "metadata": {},
     "output_type": "execute_result"
    }
   ],
   "source": [
    "float(x)"
   ]
  },
  {
   "cell_type": "code",
   "execution_count": 16,
   "id": "6154c19b-3c92-4b05-88d5-43f87b776a59",
   "metadata": {},
   "outputs": [
    {
     "data": {
      "text/plain": [
       "'42'"
      ]
     },
     "execution_count": 16,
     "metadata": {},
     "output_type": "execute_result"
    }
   ],
   "source": [
    "str(x)"
   ]
  },
  {
   "cell_type": "code",
   "execution_count": 17,
   "id": "7d247733-de88-4d3b-ba10-c7c516c6f29d",
   "metadata": {},
   "outputs": [
    {
     "data": {
      "text/plain": [
       "True"
      ]
     },
     "execution_count": 17,
     "metadata": {},
     "output_type": "execute_result"
    }
   ],
   "source": [
    "bool(x)"
   ]
  },
  {
   "cell_type": "markdown",
   "id": "6ce60fbb-dc8d-4bc6-ad6d-1b099eab20bf",
   "metadata": {},
   "source": [
    "As we can see, explicit type conversion is performed by the user using specific functions to convert data from one type to another. This is also known as type casting."
   ]
  },
  {
   "cell_type": "markdown",
   "id": "974ebf9a-2c50-4560-b6d8-58324887c4e5",
   "metadata": {},
   "source": [
    "Q5. Given a list my_list = [1, 2, 3, 4, 5], write the code to slice the list and obtain the sub-list [2, 3]."
   ]
  },
  {
   "cell_type": "markdown",
   "id": "63136ed6-1354-43e3-a50b-6f1f0c7155aa",
   "metadata": {},
   "source": [
    "ANS -  To slice the list (my_list) and obtain the sub list [2,3] , we can use the following code in python :"
   ]
  },
  {
   "cell_type": "code",
   "execution_count": 20,
   "id": "c3dbfc6f-4887-4932-a966-4b68d967eac6",
   "metadata": {},
   "outputs": [],
   "source": [
    "my_list = [1,2,3,4,5]"
   ]
  },
  {
   "cell_type": "code",
   "execution_count": 21,
   "id": "25ff5bbb-01ef-4cb3-99e3-9e3afb2db440",
   "metadata": {},
   "outputs": [
    {
     "data": {
      "text/plain": [
       "[2, 3]"
      ]
     },
     "execution_count": 21,
     "metadata": {},
     "output_type": "execute_result"
    }
   ],
   "source": [
    "my_list[1:3]"
   ]
  },
  {
   "cell_type": "markdown",
   "id": "c4efd60f-9880-4ca4-8f25-8afbbbca1cbc",
   "metadata": {},
   "source": [
    "Q6. What is a complex number in mathematics, and how is it represented in Python?"
   ]
  },
  {
   "cell_type": "markdown",
   "id": "34bc137b-5160-4f4d-8859-4a7dc4d92cf2",
   "metadata": {},
   "source": [
    "In mathematics, a complex number is an element of a number system that extends the real numbers with a specific element denoted (j) , called the imaginary unit. A complex number can be expressed in the form  4+5j, where 4 is a real number and 5j is the imaginary unit. \n",
    "For Example :"
   ]
  },
  {
   "cell_type": "code",
   "execution_count": 22,
   "id": "c55eddc0-d105-4638-b06f-61b3c72cd3d4",
   "metadata": {},
   "outputs": [],
   "source": [
    "y = 6+7j"
   ]
  },
  {
   "cell_type": "code",
   "execution_count": 23,
   "id": "43a4e531-b540-424c-8c0e-0a124beb75bd",
   "metadata": {},
   "outputs": [
    {
     "data": {
      "text/plain": [
       "complex"
      ]
     },
     "execution_count": 23,
     "metadata": {},
     "output_type": "execute_result"
    }
   ],
   "source": [
    "type(y)"
   ]
  },
  {
   "cell_type": "code",
   "execution_count": 24,
   "id": "d9b1a18e-9812-425b-bee3-bd265777cba8",
   "metadata": {},
   "outputs": [
    {
     "data": {
      "text/plain": [
       "6.0"
      ]
     },
     "execution_count": 24,
     "metadata": {},
     "output_type": "execute_result"
    }
   ],
   "source": [
    "y.real"
   ]
  },
  {
   "cell_type": "code",
   "execution_count": 26,
   "id": "a47b6c76-2d22-4833-b108-bde16e43c5ae",
   "metadata": {},
   "outputs": [
    {
     "data": {
      "text/plain": [
       "7.0"
      ]
     },
     "execution_count": 26,
     "metadata": {},
     "output_type": "execute_result"
    }
   ],
   "source": [
    "y.imag"
   ]
  },
  {
   "cell_type": "markdown",
   "id": "41110246-6cc4-4fd2-9464-64903c37ecc0",
   "metadata": {},
   "source": [
    "Q7. What is the correct way to declare a variable named age and assign the value 25 to it?"
   ]
  },
  {
   "cell_type": "markdown",
   "id": "d704e464-21e8-448c-873f-14c932cbe145",
   "metadata": {},
   "source": [
    "ANS -  To declare a variable named age and assign the value 25 to it in python language , the correct way is :\n",
    "firstly we type variable name - age , then = , then assign the value 25 , then execute the row. Again when we call age variable , it gives 25 as a data. \n",
    "EXAMPLE :"
   ]
  },
  {
   "cell_type": "code",
   "execution_count": 3,
   "id": "8021d177-aab7-478b-9ca8-af19ca164351",
   "metadata": {},
   "outputs": [],
   "source": [
    "age = 25"
   ]
  },
  {
   "cell_type": "code",
   "execution_count": 4,
   "id": "c0d18fd2-3ead-4aaa-837c-3803f08d803b",
   "metadata": {},
   "outputs": [
    {
     "data": {
      "text/plain": [
       "25"
      ]
     },
     "execution_count": 4,
     "metadata": {},
     "output_type": "execute_result"
    }
   ],
   "source": [
    "age"
   ]
  },
  {
   "cell_type": "markdown",
   "id": "a83ab922-9f97-4494-ba01-fa389b7fd57f",
   "metadata": {},
   "source": [
    "Q8. Declare a variable named price and assign the value 9.99 to it. What data type does this variable\n",
    "belong to?"
   ]
  },
  {
   "cell_type": "markdown",
   "id": "85e2daae-2e85-43f9-9362-39855c4620a3",
   "metadata": {},
   "source": [
    "Ans -  We are going to take a variable name , price and assign the value 9.99"
   ]
  },
  {
   "cell_type": "code",
   "execution_count": 5,
   "id": "b9d30187-306b-4a9a-833f-12e3730f3b4b",
   "metadata": {},
   "outputs": [],
   "source": [
    "price = 9.99"
   ]
  },
  {
   "cell_type": "markdown",
   "id": "f7fa6ba9-50bf-4e5b-b7f0-93c9f33e9e60",
   "metadata": {},
   "source": [
    "To check the variable data type, we follow these steps :-"
   ]
  },
  {
   "cell_type": "code",
   "execution_count": 6,
   "id": "729ecacb-2f6c-4e1f-9359-7cde2c599baf",
   "metadata": {},
   "outputs": [
    {
     "data": {
      "text/plain": [
       "float"
      ]
     },
     "execution_count": 6,
     "metadata": {},
     "output_type": "execute_result"
    }
   ],
   "source": [
    "type(price)"
   ]
  },
  {
   "cell_type": "markdown",
   "id": "2762f041-c4a8-4284-b059-d5d00eae18ab",
   "metadata": {},
   "source": [
    "As we can see , to execute the type(price) , we got float type of data."
   ]
  },
  {
   "cell_type": "markdown",
   "id": "9624b7ce-cd62-4755-961d-b56128ca3ede",
   "metadata": {},
   "source": [
    "Q9. Create a variable named name and assign your full name to it as a string. How would you print the\n",
    "value of this variable?"
   ]
  },
  {
   "cell_type": "markdown",
   "id": "fabec18d-db7c-4187-90ed-02a5424fe6c9",
   "metadata": {},
   "source": [
    "ANS -  To create a variable named, name and assign our full name to it as a string we can use the following syntax in python."
   ]
  },
  {
   "cell_type": "code",
   "execution_count": 7,
   "id": "afcaa00e-cb34-4606-8bc9-49422d28b729",
   "metadata": {},
   "outputs": [],
   "source": [
    "name = \"surbhi bhardwaj\""
   ]
  },
  {
   "cell_type": "markdown",
   "id": "133bf94f-735a-4c34-a190-326b1c5f39c7",
   "metadata": {},
   "source": [
    "To print the value of the variable name, we can use the following syntax :"
   ]
  },
  {
   "cell_type": "code",
   "execution_count": 8,
   "id": "bfd62587-d735-4d0a-8598-2fc9b46af38d",
   "metadata": {},
   "outputs": [
    {
     "name": "stdout",
     "output_type": "stream",
     "text": [
      "surbhi bhardwaj\n"
     ]
    }
   ],
   "source": [
    "print(name)"
   ]
  },
  {
   "cell_type": "markdown",
   "id": "907cdd99-9dc7-4aba-89e5-98402a2b8391",
   "metadata": {},
   "source": [
    "As we can see , to execute print(name), it print the value of name variable."
   ]
  },
  {
   "cell_type": "markdown",
   "id": "959d48aa-774b-4e60-a29a-770ed076d1a1",
   "metadata": {},
   "source": [
    "Q10. Given the string \"Hello, World!\", extract the substring \"World\"."
   ]
  },
  {
   "cell_type": "markdown",
   "id": "d44badaf-8404-49d1-ab01-475299999e96",
   "metadata": {},
   "source": [
    "ANS -  To extract the substring \"World\" from the string \"Hello, World!\", we can use following syntax :"
   ]
  },
  {
   "cell_type": "code",
   "execution_count": 9,
   "id": "49641494-b536-4ed4-98da-cc5d715fd24f",
   "metadata": {},
   "outputs": [],
   "source": [
    "a = \"Hello, World!\""
   ]
  },
  {
   "cell_type": "code",
   "execution_count": 10,
   "id": "2dc1d2a1-8361-4e9a-ba1b-665d2ae1d769",
   "metadata": {},
   "outputs": [
    {
     "data": {
      "text/plain": [
       "'World'"
      ]
     },
     "execution_count": 10,
     "metadata": {},
     "output_type": "execute_result"
    }
   ],
   "source": [
    "a[7:12]"
   ]
  },
  {
   "cell_type": "markdown",
   "id": "a5161f7c-641b-41b6-89a9-87dc2a3d75c7",
   "metadata": {},
   "source": [
    "As we can see the substring \"World\" extract from the string \"Hello, World!\"\n",
    "In this syntax a is the name of variable amd \"Hello, World!\" is the data of a's variable which is string."
   ]
  },
  {
   "cell_type": "markdown",
   "id": "d990ed07-4647-4bc5-af0f-989e1b3cf2ea",
   "metadata": {},
   "source": [
    "Q11. Create a variable named \"is_student\" and assign it a boolean value indicating whether you are\n",
    "currently a student or not."
   ]
  },
  {
   "cell_type": "markdown",
   "id": "fc1da63f-9e90-486c-a8e0-2351e43db43a",
   "metadata": {},
   "source": [
    "ANS -  To create a variable named , is_student and assign it a boolean value indicating whether we are currently a student or not , we can use the following syntax :"
   ]
  },
  {
   "cell_type": "code",
   "execution_count": 11,
   "id": "5e2385eb-0f23-4b6b-9a16-0ed2e77e0112",
   "metadata": {},
   "outputs": [],
   "source": [
    "is_student = True"
   ]
  },
  {
   "cell_type": "markdown",
   "id": "a12049dc-aa7d-4df3-af2a-06adb7d77539",
   "metadata": {},
   "source": [
    "In this example , the variable is_student is assigned the boolean value - True, indicating that we are currently a student. if we are not a student, we can assign the value False to the variable.\n",
    "True and False are the boolean values."
   ]
  },
  {
   "cell_type": "markdown",
   "id": "8a4aa368-0d80-4e39-85d5-438ea1145177",
   "metadata": {},
   "source": [
    "Q4. How do you write and execute a Python script from the command line?"
   ]
  },
  {
   "cell_type": "markdown",
   "id": "2bdc8c07-5a64-4915-a57e-967cea17adc8",
   "metadata": {},
   "source": [
    "ANS -  To write and execute a Python script from the command line, we can follow these steps:\n",
    "\n",
    "Open a command prompt or terminal window.\n",
    "Navigate to the directory where you want to create our Python script using the  command.\n",
    "Create a new file with a .py extension using a text editor such as Notepad, Sublime Text, or Visual Studio Code.\n",
    "Write our Python code in the file and save it.\n",
    "To execute the script, type python followed by the name of our script file and press Enter. FOR EXAMPLE: hello.py\n",
    "This will run the hello.py script and display the output in the command prompt or terminal window."
   ]
  },
  {
   "cell_type": "code",
   "execution_count": null,
   "id": "dc300510-8b35-490f-92fb-c7c5207dbbb7",
   "metadata": {},
   "outputs": [],
   "source": []
  }
 ],
 "metadata": {
  "kernelspec": {
   "display_name": "Python 3 (ipykernel)",
   "language": "python",
   "name": "python3"
  },
  "language_info": {
   "codemirror_mode": {
    "name": "ipython",
    "version": 3
   },
   "file_extension": ".py",
   "mimetype": "text/x-python",
   "name": "python",
   "nbconvert_exporter": "python",
   "pygments_lexer": "ipython3",
   "version": "3.10.8"
  }
 },
 "nbformat": 4,
 "nbformat_minor": 5
}
